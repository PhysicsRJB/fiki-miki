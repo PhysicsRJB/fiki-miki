{
 "cells": [
  {
   "cell_type": "code",
   "execution_count": 190,
   "metadata": {},
   "outputs": [],
   "source": [
    "import cv2\n",
    "import numpy as np\n",
    "from scipy import stats\n",
    "import math\n",
    "import pandas as pd\n",
    "from matplotlib import pyplot as plt\n",
    "\n",
    "#defined by user\n",
    "name=\"./urgent/20190117_mAST_3.png\"\n",
    "min_distance=20\n",
    "max_radius=50\n",
    "thresh_circle=50\n",
    "thresh_centre=5\n",
    "\n",
    "#defined by code\n",
    "red_yel_thresh=0\n",
    "mean_values=[]\n",
    "\n",
    "img=cv2.imread(name)\n",
    "img=img[250:-100,300:-50,:]\n",
    "img_grey=img[:,:,0]\n",
    "\n",
    "#cv2.namedWindow('',cv2.WINDOW_NORMAL)\n",
    "#cv2.resizeWindow('', 1000,1000)\n",
    "#cv2.imshow('',img_grey)\n",
    "img_red_yellow=img[:,:,1]\n",
    "img_median=np.median(img_grey)\n",
    "img_mean=np.mean(img_grey)\n",
    "img_mode=np.mean(stats.mode(img_grey))\n",
    "\n",
    "img2=img.copy()\n",
    "img_const=img2.copy()\n",
    "#threshold image to obtain only red/yellow parts of wells\n",
    "ret,thresh = cv2.threshold(img_grey,img_median,255,cv2.THRESH_TOZERO_INV+cv2.THRESH_OTSU)\n",
    "\n",
    "#purging img_red_yellow according to threshold calculated above\n",
    "img_red_yellow[thresh==0]=0\n",
    "\n",
    "img=img_red_yellow.copy()\n",
    "draw_img=img2.copy()\n",
    "kmeans_img=img2.copy()\n",
    "\n",
    "\n",
    "#cv2.waitKey(1000000)\n",
    "#cv2.destroyAllWindows()"
   ]
  },
  {
   "cell_type": "code",
   "execution_count": 191,
   "metadata": {},
   "outputs": [
    {
     "name": "stdout",
     "output_type": "stream",
     "text": [
      "                 0            1            2\n",
      "count  1024.000000  1024.000000  1024.000000\n",
      "mean   1030.251953  1233.074219   117.387047\n",
      "std     597.503981   599.165993    13.263813\n",
      "min      21.000000   220.000000    88.039062\n",
      "25%     530.500000   729.500000   107.690430\n",
      "50%    1031.500000  1233.000000   113.464844\n",
      "75%    1531.500000  1737.500000   127.803711\n",
      "max    2039.000000  2244.000000   155.335938\n",
      "      i       j        mean\n",
      "0  21.0   743.0  152.046875\n",
      "1  21.0   809.0  154.613281\n",
      "2  21.0   874.0  143.445312\n",
      "3  21.0  1397.0  148.949219\n",
      "4  21.0  1462.0  144.945312\n",
      "           i       j       mean\n",
      "574   1129.0  2174.0  88.039062\n",
      "1003  2035.0  1007.0  92.558594\n",
      "1004  2035.0  1073.0  93.550781\n",
      "1002  2035.0   878.0  93.992188\n",
      "1006  2036.0  1137.0  94.406250\n",
      "4.51953125 117.38704681396484\n"
     ]
    }
   ],
   "source": [
    "x_y_cor=[]\n",
    "diam=8\n",
    "draw_diam=16\n",
    "min_distance_i=1\n",
    "min_distance_j=1\n",
    "for i in range(img.shape[0]):\n",
    "    for j in range(img.shape[1]):\n",
    "        small_img=img[i-diam:i+diam,j-diam:j+diam]\n",
    "        if np.count_nonzero(img[i-diam:i+diam,j-diam:j+diam])/(2*diam)**2>0.997 \\\n",
    "        and np.count_nonzero(small_img[small_img[:,:]==255])==0:\n",
    "            #print(np.nanmean(img[i-diam:i+diam,j-diam:j+diam]))\n",
    "            cv2.rectangle(img,(j-diam,i-diam),(j+diam,i+diam),(255,0,0))\n",
    "            cv2.rectangle(img2,(j-diam,i-diam),(j+diam,i+diam),(255,0,0))\n",
    "            x_y_cor.append([i,j,np.nanmean(img[i-diam:i+diam,j-diam:j+diam])])\n",
    "\n",
    "x_y_cor=np.array(x_y_cor)\n",
    "x_y_cor_df=pd.DataFrame(x_y_cor)\n",
    "\n",
    "print(x_y_cor_df.describe())\n",
    "x_y_cor_df.rename({0:'i',1:'j',2:'mean'}, axis='columns',inplace=True)\n",
    "print(x_y_cor_df.head())\n",
    "x_y_cor_df_sorted=x_y_cor_df.sort_values(by=['mean'])\n",
    "print(x_y_cor_df_sorted.head())\n",
    "\n",
    "biggest_dist=0\n",
    "wells=x_y_cor_df.shape[0]\n",
    "for i in range(wells-1):\n",
    "    if biggest_dist<x_y_cor_df_sorted.iloc[i+1,2]-x_y_cor_df_sorted.iloc[i,2]:\n",
    "        biggest_dist=x_y_cor_df_sorted.iloc[i+1,2]-x_y_cor_df_sorted.iloc[i,2]\n",
    "        threshold_red_yel=(x_y_cor_df_sorted.iloc[i+1,2]+x_y_cor_df_sorted.iloc[i,2])/2\n",
    "if threshold_red_yel<x_y_cor_df.iloc[:,2].describe().iloc[1]:\n",
    "    threshold_red_yel=x_y_cor_df.iloc[:,2].describe().iloc[1]\n",
    "print(biggest_dist, threshold_red_yel)\n",
    "\n",
    "zero_one_matrix=x_y_cor_df.copy()\n",
    "for i in range(x_y_cor_df.shape[0]):\n",
    "        if x_y_cor_df.iloc[i,2]>threshold_red_yel:\n",
    "            zero_one_matrix.iloc[i,2]=1\n",
    "            jx=int(zero_one_matrix.iloc[i,1])\n",
    "            ix=int(zero_one_matrix.iloc[i,0])\n",
    "            cv2.rectangle(draw_img,(jx-draw_diam,ix-draw_diam),(jx+draw_diam,ix+draw_diam),(255,0,0))\n",
    "        else:\n",
    "            zero_one_matrix.iloc[i,2]=0\n",
    "\n",
    "cv2.namedWindow('detected wells',cv2.WINDOW_NORMAL)\n",
    "cv2.resizeWindow('detected wells', 1000,1000)\n",
    "cv2.namedWindow('yellow wells',cv2.WINDOW_NORMAL)\n",
    "cv2.resizeWindow('yellow wells', 1000,1000)\n",
    "cv2.namedWindow('all wells',cv2.WINDOW_NORMAL)\n",
    "cv2.resizeWindow('all wells', 1000,1000)\n",
    "cv2.imshow('detected wells',img)\n",
    "#cv2.imwrite('detected_yellow_wells_'+name+'.jpg',img)\n",
    "cv2.imshow('all wells',img2)\n",
    "cv2.imshow('yellow wells',draw_img)\n",
    "\n",
    "cv2.waitKey(1000000)\n",
    "cv2.destroyAllWindows()\n"
   ]
  },
  {
   "cell_type": "code",
   "execution_count": 192,
   "metadata": {},
   "outputs": [],
   "source": [
    "#plt.plot(range(32),x_y_cor_df.iloc[::30,2])\n",
    "#plt.show()\n",
    "#print(x_y_cor_df.shape[0])\n"
   ]
  },
  {
   "cell_type": "code",
   "execution_count": 193,
   "metadata": {},
   "outputs": [
    {
     "data": {
      "text/plain": [
       "117.38704681396484"
      ]
     },
     "execution_count": 193,
     "metadata": {},
     "output_type": "execute_result"
    }
   ],
   "source": [
    "desc=x_y_cor_df.iloc[:,2].describe().iloc[1]\n",
    "desc\n",
    "#print(desc.iloc[0])"
   ]
  },
  {
   "cell_type": "code",
   "execution_count": 194,
   "metadata": {},
   "outputs": [
    {
     "data": {
      "text/plain": [
       "<matplotlib.axes._subplots.AxesSubplot at 0x7fed810a2a58>"
      ]
     },
     "execution_count": 194,
     "metadata": {},
     "output_type": "execute_result"
    },
    {
     "data": {
      "image/png": "[encoded data removed]",
      "text/plain": [
       "<Figure size 432x288 with 1 Axes>"
      ]
     },
     "metadata": {
      "needs_background": "light"
     },
     "output_type": "display_data"
    }
   ],
   "source": [
    "x_y_cor_df.iloc[:,2].hist(bins=30)"
   ]
  },
  {
   "cell_type": "code",
   "execution_count": 195,
   "metadata": {},
   "outputs": [],
   "source": [
    "from sklearn.cluster import KMeans,SpectralClustering\n",
    "km=KMeans(n_clusters=2)\n",
    "sc=SpectralClustering(n_clusters=2)\n",
    "km=km.fit(np.array(x_y_cor_df_sorted.iloc[:,2]).reshape(-1,1))\n",
    "sc=sc.fit(np.array(x_y_cor_df_sorted.iloc[:,2]).reshape(-1,1))\n"
   ]
  },
  {
   "cell_type": "code",
   "execution_count": 196,
   "metadata": {},
   "outputs": [],
   "source": [
    "#sc.cluster_centers_"
   ]
  },
  {
   "cell_type": "code",
   "execution_count": 197,
   "metadata": {},
   "outputs": [
    {
     "data": {
      "text/plain": [
       "array([1, 1, 1, ..., 0, 0, 0], dtype=int32)"
      ]
     },
     "execution_count": 197,
     "metadata": {},
     "output_type": "execute_result"
    }
   ],
   "source": [
    "km.labels_"
   ]
  },
  {
   "cell_type": "code",
   "execution_count": 199,
   "metadata": {},
   "outputs": [],
   "source": [
    "kmeans_img=img_const.copy()\n",
    "for i in range(x_y_cor_df.shape[0]):\n",
    "        if sc.labels_[i]==0:\n",
    "            \n",
    "            jx=int(x_y_cor_df_sorted.iloc[i,1])\n",
    "            ix=int(x_y_cor_df_sorted.iloc[i,0])\n",
    "            cv2.rectangle(kmeans_img,(jx-draw_diam,ix-draw_diam),(jx+draw_diam,ix+draw_diam),(255,0,0))\n",
    "\n",
    "            \n",
    "cv2.namedWindow('yellow wells kmeans',cv2.WINDOW_NORMAL)\n",
    "cv2.resizeWindow('yellow wells kmeans', 1000,1000)\n",
    "\n",
    "cv2.imshow('yellow wells kmeans',kmeans_img)\n",
    "\n",
    "cv2.waitKey(1000000)\n",
    "cv2.destroyAllWindows()"
   ]
  },
  {
   "cell_type": "code",
   "execution_count": null,
   "metadata": {},
   "outputs": [],
   "source": []
  },
  {
   "cell_type": "code",
   "execution_count": null,
   "metadata": {},
   "outputs": [],
   "source": []
  }
 ],
 "metadata": {
  "kernelspec": {
   "display_name": "Python 3",
   "language": "python",
   "name": "python3"
  },
  "language_info": {
   "codemirror_mode": {
    "name": "ipython",
    "version": 3
   },
   "file_extension": ".py",
   "mimetype": "text/x-python",
   "name": "python",
   "nbconvert_exporter": "python",
   "pygments_lexer": "ipython3",
   "version": "3.6.6"
  }
 },
 "nbformat": 4,
 "nbformat_minor": 2
}
